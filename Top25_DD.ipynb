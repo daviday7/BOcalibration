{
 "cells": [
  {
   "cell_type": "code",
   "execution_count": 140,
   "metadata": {},
   "outputs": [],
   "source": [
    "import pandas as pd\n",
    "import pickle"
   ]
  },
  {
   "cell_type": "code",
   "execution_count": 141,
   "metadata": {},
   "outputs": [],
   "source": [
    "# Import full parameters dataframe\n",
    "params_df = pd.read_csv('/home/s212597/BOcalibration/parameters_original.csv')\n",
    "params_df['include'] = False"
   ]
  },
  {
   "cell_type": "code",
   "execution_count": 142,
   "metadata": {},
   "outputs": [],
   "source": [
    "# For each submodel, import and filter the 25 most changed parameters\n",
    "# Change the file name accordingly for each submodel\n",
    "with open('/home/s212597/BOcalibration/saved_outputs/param_space_dpx.pkl', 'rb') as f:\n",
    "    param_space = pickle.load(f)\n",
    "\n",
    "# Calculate initial sample set's inadecuacy\n",
    "initial = param_space[\"definition\"].set_index(\"parameter\")[\"value\"].transpose().to_frame().T\n",
    "initial.reset_index(drop=True, inplace=True)\n",
    "initial['inadequacy']= 20.75489\n",
    "\n",
    "# Top performer\n",
    "optimal_sample = param_space[\"space\"].nsmallest(1, 'inadequacy')\n",
    "# Getting the row with the lowest inadequacy value from optimal_samples5\n",
    "second_lowest_inadequacy = optimal_sample['inadequacy'].nsmallest(1).iloc[-1]  # get the 2nd smallest value\n",
    "second_lowest_inadequacy_row = optimal_sample[optimal_sample['inadequacy'] == second_lowest_inadequacy]\n",
    "\n",
    "# Calculate differences\n",
    "differences_second = (second_lowest_inadequacy_row.iloc[0] - initial.iloc[0]).drop('inadequacy')\n",
    "\n",
    "# Sorting the differences and selecting top 25\n",
    "top25 = differences_second.abs().sort_values(ascending=False).head(25)\n",
    "top25_list = top25.index.tolist()\n",
    "# Extract unique model names from the list\n",
    "model_names = {string.split('_')[0] for string in top25_list}\n",
    "# Remove characters before \"beta\" in each string\n",
    "top25_list = [s[s.index('beta'):] if 'beta' in s else s for s in top25_list]"
   ]
  },
  {
   "cell_type": "code",
   "execution_count": 143,
   "metadata": {},
   "outputs": [],
   "source": [
    "# Keep only top 25 changed parameter for each model\n",
    "# Loop through DataFrame cells\n",
    "for index, row in params_df.iterrows():\n",
    "    cell_text = row['param']\n",
    "    # Check if any string from string_list is contained in the cell_text\n",
    "    for string2 in top25_list:\n",
    "        if string2 in cell_text:\n",
    "            if row['model'] in model_names:\n",
    "                params_df.at[index, 'include'] = True"
   ]
  },
  {
   "cell_type": "code",
   "execution_count": 144,
   "metadata": {},
   "outputs": [],
   "source": [
    "# Export\n",
    "#params_df.to_csv(\"/home/s212597/BOcalibration/parameters_final25.csv\", index = False)"
   ]
  },
  {
   "cell_type": "code",
   "execution_count": null,
   "metadata": {},
   "outputs": [],
   "source": []
  }
 ],
 "metadata": {
  "kernelspec": {
   "display_name": "dimitris",
   "language": "python",
   "name": "python3"
  },
  "language_info": {
   "codemirror_mode": {
    "name": "ipython",
    "version": 3
   },
   "file_extension": ".py",
   "mimetype": "text/x-python",
   "name": "python",
   "nbconvert_exporter": "python",
   "pygments_lexer": "ipython3",
   "version": "3.8.10"
  }
 },
 "nbformat": 4,
 "nbformat_minor": 2
}
